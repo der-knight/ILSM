{
 "cells": [
  {
   "cell_type": "code",
   "execution_count": null,
   "id": "bb4a8fae-c9d8-47ba-a291-90ca91f91d0c",
   "metadata": {},
   "outputs": [],
   "source": [
    "from collections import Counter\n",
    "from sklearn.datasets import make_classification\n",
    "from imblearn.under_sampling import OneSidedSelection\n",
    "from matplotlib import pyplot\n",
    "from numpy import where\n",
    "import pandas as pd\n",
    "from imblearn.over_sampling import SVMSMOTE\n",
    "from imblearn.pipeline import Pipeline\n",
    "import pandas as pd\n",
    "from collections import Counter\n",
    "from imblearn.under_sampling import CondensedNearestNeighbour\n",
    "from imblearn.under_sampling import NearMiss\n",
    "import os"
   ]
  },
  {
   "cell_type": "code",
   "execution_count": null,
   "id": "d636951c-3c3e-4ba1-a1c5-7f213a1dbee6",
   "metadata": {},
   "outputs": [],
   "source": [
    "\n",
    "df = pd.read_csv(\"./Downloads/final_data.csv\")\n",
    "df.drop('Unnamed: 0',axis=1,inplace=True)\n",
    "print('Landslides are', round(df['y'].value_counts()[1]/len(df) * 100,2), '% of the dataset')\n",
    "print('No Landslides are', round(df['y'].value_counts()[0]/len(df) * 100,2), '% of the dataset')"
   ]
  },
  {
   "cell_type": "code",
   "execution_count": null,
   "id": "a8223477",
   "metadata": {},
   "outputs": [],
   "source": [
    "df.loc[((df['aspect']<=22.5) | (df['aspect']>=337.5)),'Aspect']='n'\n",
    "df.loc[((df['aspect']>22.5) & (df['aspect']<=67.5)),'Aspect']='ne'\n",
    "df.loc[((df['aspect']>67.5) & (df['aspect']<=112.5)),'Aspect']='e'\n",
    "df.loc[((df['aspect']>112.5) & (df['aspect']<=157.5)),'Aspect']='se'\n",
    "df.loc[((df['aspect']>157.5) & (df['aspect']<=202.5)),'Aspect']='s'\n",
    "df.loc[((df['aspect']>247.5) & (df['aspect']<=292.5)),'Aspect']='w'\n",
    "df.loc[((df['aspect']>292.5) & (df['aspect']<=337.5)),'Aspect']='nw'\n",
    "df.loc[((df['aspect']>202.5) & (df['aspect']<=247.5)),'Aspect']='sw'"
   ]
  },
  {
   "cell_type": "code",
   "execution_count": null,
   "id": "b193a6d4",
   "metadata": {},
   "outputs": [],
   "source": [
    "from category_encoders.james_stein import JamesSteinEncoder\n",
    "JSE_encoder = JamesSteinEncoder()\n",
    "train_jse=pd.DataFrame()\n",
    "train_jse['as']= JSE_encoder.fit_transform(df.Aspect, df.y)\n",
    "df=pd.concat([df,train_jse], axis=1)\n",
    "df.drop(['Aspect','aspect'],inplace=True,axis=1)"
   ]
  },
  {
   "cell_type": "code",
   "execution_count": null,
   "id": "c0ce6278-b6ff-48dd-a572-eeef110518e9",
   "metadata": {},
   "outputs": [],
   "source": [
    "df=df.sample(frac=1, random_state=42)\n",
    "df_test = pd.concat([df.loc[df['y'] == 1][:2000],df.loc[df['y'] == 0][:200000]])\n",
    "df_test=df_test.sample(frac=1, random_state=42)\n",
    "df_test.to_csv('./test.csv')\n",
    "df_val=pd.concat([df.loc[df['y'] == 1][2000:4000],df.loc[df['y'] == 0][200000:400000]])\n",
    "df_val=df_val.sample(frac=1, random_state=42)\n",
    "df_val.to_csv('./val.csv')\n",
    "df_train= pd.concat([df.loc[df['y'] == 1][4000:],df.loc[df['y'] == 0][400000:]])"
   ]
  },
  {
   "cell_type": "code",
   "execution_count": null,
   "id": "a0f4f9d2-4dd2-4b2a-871a-aefae22f662a",
   "metadata": {},
   "outputs": [],
   "source": [
    "undersample = OneSidedSelection(n_neighbors=1, n_seeds_S=200,n_jobs=17)\n",
    "# transform the dataset\n",
    "X, y = undersample.fit_resample(df_train.drop('y',axis=1), df_train['y'])\n",
    "X['y']=y\n",
    "X.to_csv('./train_OSS.csv')\n",
    "over = SVMSMOTE(sampling_strategy=0.2,n_jobs=14)\n",
    "train=pd.read_csv('./train_OSS.csv')\n",
    "pipeline = Pipeline(steps=[('o', over), ('u', under)])\n",
    "X_train, y_train = pipeline.fit_resample(train.drop('y',axis=1), train['y'])\n",
    "print('Resample dataset shape', Counter(y_train))"
   ]
  },
  {
   "cell_type": "code",
   "execution_count": null,
   "id": "d5b414f5",
   "metadata": {},
   "outputs": [],
   "source": [
    "X_train['y']=y_train\n",
    "X_train.to_csv('./final1.csv')"
   ]
  }
 ],
 "metadata": {
  "interpreter": {
   "hash": "6425cd888af6a2f896432ef0d705523b9536cd7ba79c7f684761719aa77915d3"
  },
  "kernelspec": {
   "display_name": "Python 3 (ipykernel)",
   "language": "python",
   "name": "python3"
  },
  "language_info": {
   "codemirror_mode": {
    "name": "ipython",
    "version": 3
   },
   "file_extension": ".py",
   "mimetype": "text/x-python",
   "name": "python",
   "nbconvert_exporter": "python",
   "pygments_lexer": "ipython3",
   "version": "3.9.12"
  }
 },
 "nbformat": 4,
 "nbformat_minor": 5
}
