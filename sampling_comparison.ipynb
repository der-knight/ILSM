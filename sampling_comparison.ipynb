{
 "cells": [
  {
   "cell_type": "code",
   "execution_count": 1,
   "id": "4415782a-94fd-43f3-b2b6-309d7d950e90",
   "metadata": {},
   "outputs": [],
   "source": [
    "import pandas as pd\n",
    "from numpy import mean\n",
    "from numpy import std\n",
    "from imblearn.over_sampling import RandomOverSampler\n",
    "from imblearn.over_sampling import SMOTE\n",
    "from imblearn.over_sampling import BorderlineSMOTE\n",
    "from imblearn.over_sampling import SVMSMOTE\n",
    "from imblearn.over_sampling import ADASYN\n",
    "from imblearn.pipeline import Pipeline\n",
    "from imblearn.combine import SMOTETomek \n",
    "from sklearn.preprocessing import MinMaxScaler\n",
    "from sklearn.ensemble import RandomForestClassifier\n",
    "from sklearn.model_selection import cross_val_score\n",
    "from sklearn.model_selection import RepeatedStratifiedKFold\n",
    "from imblearn.metrics import geometric_mean_score"
   ]
  },
  {
   "cell_type": "code",
   "execution_count": 2,
   "id": "eda3f3cb-4161-42ce-bf6e-a72c116f8504",
   "metadata": {},
   "outputs": [
    {
     "name": "stdout",
     "output_type": "stream",
     "text": [
      "Landslides are 0.95 % of the dataset\n",
      "No Landslides are 99.05 % of the dataset\n"
     ]
    }
   ],
   "source": [
    "df = pd.read_csv(\"../Downloads/ritesh.csv\")\n",
    "df.drop('Unnamed: 0',axis=1,inplace=True)\n",
    "print('Landslides are', round(df['y'].value_counts()[1]/len(df) * 100,2), '% of the dataset')\n",
    "print('No Landslides are', round(df['y'].value_counts()[0]/len(df) * 100,2), '% of the dataset')"
   ]
  },
  {
   "cell_type": "code",
   "execution_count": 3,
   "id": "5ebbb70d-d63e-4893-9cb4-8518474b8f08",
   "metadata": {},
   "outputs": [],
   "source": [
    "df = df.sample(frac=1)\n",
    "Lslide = df.loc[df['y'] == 1]\n",
    "no_lslide = df.loc[df['y'] == 0][:300000]\n",
    "normal_distributed_df = pd.concat([Lslide, no_lslide])\n",
    "new_df = normal_distributed_df.sample(frac=1, random_state=42)\n",
    "X = new_df.drop('y', axis=1)\n",
    "y = new_df['y']"
   ]
  },
  {
   "cell_type": "code",
   "execution_count": 4,
   "id": "e32444cc-0a0e-456a-8234-bc6994b01187",
   "metadata": {},
   "outputs": [],
   "source": [
    "def get_models():\n",
    "    models, names = list(), list()\n",
    "    # RandomOverSampler \n",
    "    models.append(RandomOverSampler()) \n",
    "    names.append('ROS')\n",
    "    # SMOTE\n",
    "    models.append(SMOTE()) \n",
    "    names.append('SMOTE')\n",
    "    # BorderlineSMOTE \n",
    "    models.append(BorderlineSMOTE())\n",
    "    names.append('BLSMOTE')\n",
    "    # SVMSMOTE \n",
    "    models.append(SVMSMOTE()) \n",
    "    names.append('SVMSMOTE')\n",
    "    # ADASYN\n",
    "    models.append(ADASYN()) \n",
    "    names.append('ADASYN')\n",
    "    models.append(SMOTETomek()) \n",
    "    names.append('SMOTETomek')\n",
    "     \n",
    "    return models, names"
   ]
  },
  {
   "cell_type": "code",
   "execution_count": 5,
   "id": "d533b3a6-efad-4f21-ab85-66c6d43243f6",
   "metadata": {},
   "outputs": [],
   "source": [
    "from sklearn.metrics import make_scorer\n",
    "def evaluate_model(X, y, model):\n",
    "  # define evaluation procedure\n",
    "  cv = RepeatedStratifiedKFold(n_splits=10, n_repeats=7, random_state=1)\n",
    "  # define the model evaluation metric\n",
    "  metric = make_scorer(geometric_mean_score)\n",
    "  # evaluate model\n",
    "  scores = cross_val_score(model, X, y, scoring=metric, cv=cv, n_jobs=17)\n",
    "  return scores"
   ]
  },
  {
   "cell_type": "code",
   "execution_count": 6,
   "id": "96c4c87f-4cf8-472a-a0c1-4e5275a4bb95",
   "metadata": {},
   "outputs": [
    {
     "name": "stdout",
     "output_type": "stream",
     "text": [
      ">ROS 0.906 (0.004)\n",
      ">SMOTE 0.936 (0.003)\n"
     ]
    }
   ],
   "source": [
    "\n",
    "models, names = get_models() \n",
    "results = list()\n",
    "# define the pipeline steps\n",
    "for i in range(len(models)):\n",
    "    # define the model\n",
    "    model = RandomForestClassifier(n_estimators=1000,n_jobs=12)\n",
    "    # define the pipeline steps\n",
    "    steps = [('s', MinMaxScaler()), ('o', models[i]), ('m', model)] # define the pipeline\n",
    "    pipeline = Pipeline(steps=steps)\n",
    "    # evaluate the model and store results\n",
    "    scores = evaluate_model(X, y, pipeline)\n",
    "    results.append(scores)\n",
    "    # summarize and store\n",
    "    print('>%s %.3f (%.3f)' % (names[i], mean(scores), std(scores)))\n",
    "# plot the results"
   ]
  },
  {
   "cell_type": "code",
   "execution_count": null,
   "id": "f2c5ee0d-7484-4f93-ba86-0107ac27cdbd",
   "metadata": {},
   "outputs": [],
   "source": [
    "from matplotlib import pyplot"
   ]
  },
  {
   "cell_type": "code",
   "execution_count": null,
   "id": "60a40837-b8da-4647-a61f-3068faa3bf84",
   "metadata": {},
   "outputs": [],
   "source": [
    "pyplot.boxplot(results, labels=names, showmeans=True)\n",
    "pyplot.show()"
   ]
  },
  {
   "cell_type": "code",
   "execution_count": 1,
   "id": "eef12f08",
   "metadata": {},
   "outputs": [
    {
     "name": "stderr",
     "output_type": "stream",
     "text": [
      "c:\\Users\\2020CEZ8302\\anaconda3\\lib\\site-packages\\proplot\\__init__.py:71: ProplotWarning: Rebuilding font cache. This usually happens after installing or updating proplot.\n",
      "  register_fonts(default=True)\n"
     ]
    },
    {
     "data": {
      "image/png": "[encoded data removed]",
      "text/plain": [
       "Figure(nrows=1, ncols=1, refwidth=2.5)"
      ]
     },
     "metadata": {
      "image/png": {
       "height": 318,
       "width": 285
      }
     },
     "output_type": "display_data"
    }
   ],
   "source": [
    "import proplot as plot\n",
    "import numpy as np\n",
    "import pandas as pd\n",
    "N = 500\n",
    "state = np.random.RandomState(51423)\n",
    "f, axs = plot.subplots(ncols=1)\n",
    "data = state.normal(size=(N, 5)) + 2*(state.rand(N, 5)-0.5)*np.arange(5)\n",
    "data = pd.DataFrame(data, columns=pd.Index(\n",
    "    ['a', 'b', 'c', 'd', 'e'], name='xlabel'))\n",
    "ax = axs[0]\n",
    "boxprops={'color':'C0'}\n",
    "labels=data.columns\n",
    "obj1 = ax.boxplot(data, lw=0.7, marker='x', fillcolor='gray5',\n",
    "                  medianlw=1, mediancolor='k')\n",
    "ax.format(title='Box plots')"
   ]
  },
  {
   "cell_type": "code",
   "execution_count": null,
   "id": "ec2eb3bf",
   "metadata": {},
   "outputs": [
    {
     "data": {
      "text/html": [
       "<div>\n",
       "<style scoped>\n",
       "    .dataframe tbody tr th:only-of-type {\n",
       "        vertical-align: middle;\n",
       "    }\n",
       "\n",
       "    .dataframe tbody tr th {\n",
       "        vertical-align: top;\n",
       "    }\n",
       "\n",
       "    .dataframe thead th {\n",
       "        text-align: right;\n",
       "    }\n",
       "</style>\n",
       "<table border=\"1\" class=\"dataframe\">\n",
       "  <thead>\n",
       "    <tr style=\"text-align: right;\">\n",
       "      <th>xlabel</th>\n",
       "      <th>a</th>\n",
       "      <th>b</th>\n",
       "      <th>c</th>\n",
       "      <th>d</th>\n",
       "      <th>e</th>\n",
       "    </tr>\n",
       "  </thead>\n",
       "  <tbody>\n",
       "    <tr>\n",
       "      <th>0</th>\n",
       "      <td>-0.613555</td>\n",
       "      <td>0.682797</td>\n",
       "      <td>0.922802</td>\n",
       "      <td>2.712688</td>\n",
       "      <td>0.332775</td>\n",
       "    </tr>\n",
       "    <tr>\n",
       "      <th>1</th>\n",
       "      <td>0.914384</td>\n",
       "      <td>0.266436</td>\n",
       "      <td>-1.576431</td>\n",
       "      <td>2.764987</td>\n",
       "      <td>-0.224940</td>\n",
       "    </tr>\n",
       "    <tr>\n",
       "      <th>2</th>\n",
       "      <td>0.502818</td>\n",
       "      <td>0.014872</td>\n",
       "      <td>0.858294</td>\n",
       "      <td>-2.078291</td>\n",
       "      <td>1.971858</td>\n",
       "    </tr>\n",
       "    <tr>\n",
       "      <th>3</th>\n",
       "      <td>0.353395</td>\n",
       "      <td>1.489007</td>\n",
       "      <td>3.775098</td>\n",
       "      <td>1.625966</td>\n",
       "      <td>-3.805613</td>\n",
       "    </tr>\n",
       "    <tr>\n",
       "      <th>4</th>\n",
       "      <td>0.569091</td>\n",
       "      <td>-1.256706</td>\n",
       "      <td>0.251128</td>\n",
       "      <td>1.796257</td>\n",
       "      <td>-1.186086</td>\n",
       "    </tr>\n",
       "    <tr>\n",
       "      <th>...</th>\n",
       "      <td>...</td>\n",
       "      <td>...</td>\n",
       "      <td>...</td>\n",
       "      <td>...</td>\n",
       "      <td>...</td>\n",
       "    </tr>\n",
       "    <tr>\n",
       "      <th>495</th>\n",
       "      <td>0.728050</td>\n",
       "      <td>1.285810</td>\n",
       "      <td>-0.659133</td>\n",
       "      <td>1.014121</td>\n",
       "      <td>3.038811</td>\n",
       "    </tr>\n",
       "    <tr>\n",
       "      <th>496</th>\n",
       "      <td>0.044665</td>\n",
       "      <td>-1.075686</td>\n",
       "      <td>1.459919</td>\n",
       "      <td>2.106872</td>\n",
       "      <td>5.065045</td>\n",
       "    </tr>\n",
       "    <tr>\n",
       "      <th>497</th>\n",
       "      <td>0.059118</td>\n",
       "      <td>-0.620517</td>\n",
       "      <td>-1.272589</td>\n",
       "      <td>-1.066364</td>\n",
       "      <td>-2.592830</td>\n",
       "    </tr>\n",
       "    <tr>\n",
       "      <th>498</th>\n",
       "      <td>-1.656022</td>\n",
       "      <td>-0.385707</td>\n",
       "      <td>-2.473468</td>\n",
       "      <td>-1.206205</td>\n",
       "      <td>0.350170</td>\n",
       "    </tr>\n",
       "    <tr>\n",
       "      <th>499</th>\n",
       "      <td>-1.353125</td>\n",
       "      <td>-0.838058</td>\n",
       "      <td>-1.018465</td>\n",
       "      <td>1.441513</td>\n",
       "      <td>2.246649</td>\n",
       "    </tr>\n",
       "  </tbody>\n",
       "</table>\n",
       "<p>500 rows × 5 columns</p>\n",
       "</div>"
      ],
      "text/plain": [
       "xlabel         a         b         c         d         e\n",
       "0      -0.613555  0.682797  0.922802  2.712688  0.332775\n",
       "1       0.914384  0.266436 -1.576431  2.764987 -0.224940\n",
       "2       0.502818  0.014872  0.858294 -2.078291  1.971858\n",
       "3       0.353395  1.489007  3.775098  1.625966 -3.805613\n",
       "4       0.569091 -1.256706  0.251128  1.796257 -1.186086\n",
       "..           ...       ...       ...       ...       ...\n",
       "495     0.728050  1.285810 -0.659133  1.014121  3.038811\n",
       "496     0.044665 -1.075686  1.459919  2.106872  5.065045\n",
       "497     0.059118 -0.620517 -1.272589 -1.066364 -2.592830\n",
       "498    -1.656022 -0.385707 -2.473468 -1.206205  0.350170\n",
       "499    -1.353125 -0.838058 -1.018465  1.441513  2.246649\n",
       "\n",
       "[500 rows x 5 columns]"
      ]
     },
     "execution_count": 10,
     "metadata": {},
     "output_type": "execute_result"
    }
   ],
   "source": [
    "data"
   ]
  },
  {
   "cell_type": "code",
   "execution_count": null,
   "id": "fdcaa25a",
   "metadata": {},
   "outputs": [],
   "source": []
  }
 ],
 "metadata": {
  "interpreter": {
   "hash": "d3ce9e9ebceccd2e57ea645f5f243589e2fd0372d82e9ff7673353bc8e80d4e5"
  },
  "kernelspec": {
   "display_name": "Python 3.9.7 ('base')",
   "language": "python",
   "name": "python3"
  },
  "language_info": {
   "codemirror_mode": {
    "name": "ipython",
    "version": 3
   },
   "file_extension": ".py",
   "mimetype": "text/x-python",
   "name": "python",
   "nbconvert_exporter": "python",
   "pygments_lexer": "ipython3",
   "version": "3.9.7"
  }
 },
 "nbformat": 4,
 "nbformat_minor": 5
}
