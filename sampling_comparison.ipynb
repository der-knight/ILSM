{
 "cells": [
  {
   "cell_type": "code",
   "execution_count": 1,
   "id": "4415782a-94fd-43f3-b2b6-309d7d950e90",
   "metadata": {},
   "outputs": [],
   "source": [
    "import pandas as pd\n",
    "from numpy import mean\n",
    "from numpy import std\n",
    "from imblearn.over_sampling import RandomOverSampler\n",
    "from imblearn.over_sampling import SMOTE\n",
    "from imblearn.over_sampling import BorderlineSMOTE\n",
    "from imblearn.over_sampling import SVMSMOTE\n",
    "from imblearn.over_sampling import ADASYN\n",
    "from imblearn.pipeline import Pipeline\n",
    "from imblearn.combine import SMOTETomek \n",
    "from sklearn.preprocessing import MinMaxScaler\n",
    "from sklearn.ensemble import RandomForestClassifier\n",
    "from sklearn.model_selection import cross_val_score\n",
    "from sklearn.model_selection import RepeatedStratifiedKFold\n",
    "from imblearn.metrics import geometric_mean_score\n",
    "from matplotlib import pyplot"
   ]
  },
  {
   "cell_type": "code",
   "execution_count": null,
   "id": "eda3f3cb-4161-42ce-bf6e-a72c116f8504",
   "metadata": {},
   "outputs": [],
   "source": [
    "df = pd.read_csv(\"../landslide_data.csv\")\n",
    "print('Landslides are', round(df['y'].value_counts()[1]/len(df) * 100,2), '% of the dataset')\n",
    "print('No Landslides are', round(df['y'].value_counts()[0]/len(df) * 100,2), '% of the dataset')"
   ]
  },
  {
   "cell_type": "code",
   "execution_count": 4,
   "id": "e32444cc-0a0e-456a-8234-bc6994b01187",
   "metadata": {},
   "outputs": [],
   "source": [
    "def get_models():\n",
    "    models, names = list(), list()\n",
    "    # RandomOverSampler \n",
    "    models.append(RandomOverSampler()) \n",
    "    names.append('ROS')\n",
    "    # SMOTE\n",
    "    models.append(SMOTE()) \n",
    "    names.append('SMOTE')\n",
    "    # BorderlineSMOTE \n",
    "    models.append(BorderlineSMOTE())\n",
    "    names.append('BLSMOTE')\n",
    "    # SVMSMOTE \n",
    "    models.append(SVMSMOTE()) \n",
    "    names.append('SVMSMOTE')\n",
    "    # ADASYN\n",
    "    models.append(ADASYN()) \n",
    "    names.append('ADASYN')\n",
    "    models.append(SMOTETomek()) \n",
    "    names.append('SMOTETomek')\n",
    "     \n",
    "    return models, names"
   ]
  },
  {
   "cell_type": "code",
   "execution_count": 5,
   "id": "d533b3a6-efad-4f21-ab85-66c6d43243f6",
   "metadata": {},
   "outputs": [],
   "source": [
    "from sklearn.metrics import make_scorer\n",
    "def evaluate_model(X, y, model):\n",
    "  # define evaluation procedure\n",
    "  cv = RepeatedStratifiedKFold(n_splits=10, n_repeats=7, random_state=1)\n",
    "  # define the model evaluation metric\n",
    "  metric = make_scorer(geometric_mean_score)\n",
    "  # evaluate model\n",
    "  scores = cross_val_score(model, X, y, scoring=metric, cv=cv, n_jobs=17)\n",
    "  return scores"
   ]
  },
  {
   "cell_type": "code",
   "execution_count": 6,
   "id": "96c4c87f-4cf8-472a-a0c1-4e5275a4bb95",
   "metadata": {},
   "outputs": [
    {
     "name": "stdout",
     "output_type": "stream",
     "text": [
      ">ROS 0.906 (0.004)\n",
      ">SMOTE 0.936 (0.003)\n"
     ]
    }
   ],
   "source": [
    "\n",
    "models, names = get_models() \n",
    "results = list()\n",
    "# define the pipeline steps\n",
    "for i in range(len(models)):\n",
    "    # define the model\n",
    "    model = RandomForestClassifier(n_estimators=1000,n_jobs=-1)\n",
    "    # define the pipeline steps\n",
    "    steps = [('s', MinMaxScaler()), ('o', models[i]), ('m', model)] # define the pipeline\n",
    "    pipeline = Pipeline(steps=steps)\n",
    "    # evaluate the model and store results\n",
    "    scores = evaluate_model(X, y, pipeline)\n",
    "    results.append(scores)\n",
    "    # summarize and store\n",
    "    print('>%s %.3f (%.3f)' % (names[i], mean(scores), std(scores)))\n",
    "# plot the results"
   ]
  },
  {
   "cell_type": "code",
   "execution_count": null,
   "id": "60a40837-b8da-4647-a61f-3068faa3bf84",
   "metadata": {},
   "outputs": [],
   "source": [
    "pyplot.boxplot(results, labels=names, showmeans=True)\n",
    "pyplot.show()"
   ]
  }
 ],
 "metadata": {
  "interpreter": {
   "hash": "d3ce9e9ebceccd2e57ea645f5f243589e2fd0372d82e9ff7673353bc8e80d4e5"
  },
  "kernelspec": {
   "display_name": "Python 3 (ipykernel)",
   "language": "python",
   "name": "python3"
  },
  "language_info": {
   "codemirror_mode": {
    "name": "ipython",
    "version": 3
   },
   "file_extension": ".py",
   "mimetype": "text/x-python",
   "name": "python",
   "nbconvert_exporter": "python",
   "pygments_lexer": "ipython3",
   "version": "3.9.15"
  }
 },
 "nbformat": 4,
 "nbformat_minor": 5
}
