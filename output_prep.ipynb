{
 "cells": [
  {
   "cell_type": "code",
   "execution_count": null,
   "id": "a53887b9-7f7f-4080-ae74-3f40a4ff449e",
   "metadata": {},
   "outputs": [],
   "source": [
    "import pandas as pd\n",
    "import os\n",
    "import matplotlib.pyplot as plt\n",
    "import cartopy\n",
    "import cartopy.crs as ccrs\n",
    "from osgeo import gdal\n",
    "import pandas as pd\n",
    "import numpy as np\n",
    "import os\n",
    "import matplotlib.pyplot as plt\n",
    "os.chdir('C:\\\\Users\\\\2020CEZ8302\\\\Downloads')\n",
    "print(\"Current working directory: {0}\".format(os.getcwd()))"
   ]
  },
  {
   "cell_type": "code",
   "execution_count": null,
   "id": "ea4d9672-4769-4091-8bec-687e3052a170",
   "metadata": {},
   "outputs": [],
   "source": [
    "# Code to merge files top bottom\n",
    "file=[]\n",
    "for i in range(6):\n",
    "    file.append(pd.read_csv('./merit'+str(i+1)+'.csv'))\n",
    "df=pd.concat(file)\n",
    "df.drop(['system:index','.geo'],axis=1,inplace=True)\n",
    "df.reset_index(drop=True,inplace=True)\n",
    "df=df.round({\"lat\":2, \"lon\":2})"
   ]
  },
  {
   "cell_type": "code",
   "execution_count": null,
   "id": "0fb443dc-3a4b-41f1-b58f-d73f94230a43",
   "metadata": {},
   "outputs": [],
   "source": [
    "df1= pd.read_csv('N:\\\\paper1_data\\\\file.csv')\n",
    "df1=df1.round({\"lat\":2, \"lon\":2})"
   ]
  },
  {
   "cell_type": "code",
   "execution_count": null,
   "id": "efda2ee0-e6fa-4bfa-9015-05586aac448a",
   "metadata": {},
   "outputs": [],
   "source": [
    "# code to merge files based on columns\n",
    "from functools import reduce\n",
    "df_merged = reduce(lambda  left,right: pd.merge(left,right,on=[ 'lat', 'lon'],how='outer'), [df,df1])"
   ]
  },
  {
   "cell_type": "code",
   "execution_count": null,
   "id": "3f61c942-98b9-440f-9d70-b0500f3f1845",
   "metadata": {},
   "outputs": [],
   "source": [
    "# replace specific value with nan in df\n",
    "import numpy as np\n",
    "df_merged.replace(-32768,np.nan,inplace=True)"
   ]
  },
  {
   "cell_type": "code",
   "execution_count": null,
   "id": "489d3b18-b17b-4204-9a4b-0b922e43b18b",
   "metadata": {},
   "outputs": [],
   "source": [
    "# convert df to xarray \n",
    "import rioxarray as rio\n",
    "xr=df_final.set_index(['lat', 'lon']).to_xarray()\n",
    "xr.rio.write_crs(\"epsg:4326\", inplace=True)"
   ]
  },
  {
   "cell_type": "code",
   "execution_count": null,
   "id": "d2a8e48f-1706-40a6-8cd0-f71eb1e63bbf",
   "metadata": {},
   "outputs": [],
   "source": [
    "# Single plot\n",
    "fig=plt.figure(figsize=(40,15)) \n",
    "ax = plt.axes(projection=ccrs.PlateCarree())\n",
    "ax.coastlines(resolution=\"110m\",linewidth=1)\n",
    "ax.gridlines(linestyle='--',color='black')\n",
    "extent = [64,100,5,38]\n",
    "plt.title('India')\n",
    "cs=ax.contourf(xr.lon, xr.lat,xr.aspect ,transform=ccrs.PlateCarree(),cmap='Blues')\n",
    "cbar = fig.colorbar(cs)\n",
    "ax.set_extent(extent)"
   ]
  },
  {
   "cell_type": "code",
   "execution_count": null,
   "id": "380262b1-ebc5-4a59-8d1e-b3316a865738",
   "metadata": {},
   "outputs": [],
   "source": [
    "# multi xarray plots\n",
    "fig, ((ax1, ax2,ax3),(ax4,ax5,ax6)) = plt.subplots(2, 3, figsize=(20, 12))\n",
    "\n",
    "xr.aspect.plot(ax=ax1,cmap='winter')\n",
    "ax1.set_title(\"Aspect\")\n",
    "\n",
    "xr.elev_merit.plot(ax=ax2,cmap='rainbow')\n",
    "ax2.set_title(\"Elevation\")\n",
    "\n",
    "xr.precip.plot(ax=ax3)\n",
    "ax3.set_title(\"Precipitation\")\n",
    "\n",
    "xr.sand.plot(ax=ax4)\n",
    "ax4.set_title(\"Sand\")\n",
    "\n",
    "xr.silt.plot(ax=ax5)\n",
    "ax5.set_title(\"Silt\")\n",
    "\n",
    "xr.clay.plot(ax=ax6)\n",
    "ax6.set_title(\"Clay\")\n",
    "plt.tight_layout()\n",
    "plt.savefig('./fig.jpg')"
   ]
  },
  {
   "cell_type": "code",
   "execution_count": null,
   "id": "9ff4af8f-4ab8-43aa-9a86-b9ca19758bb7",
   "metadata": {},
   "outputs": [],
   "source": [
    "# plot nan values\n",
    "a,b=[],[]\n",
    "col=['road', 'waterways','aspect',\n",
    "       'elev_merit', 'precip', 'slope','ndvi', 'twi', 'downslope', 'upslope', 'curv', 'clay', 'sand', 'silt' ]\n",
    "for val in col:\n",
    "    a.append(val)\n",
    "    b.append(df_final[val].isna().sum())\n",
    "fig = plt.figure(figsize = (15, 10))\n",
    "plt.bar(a,b, color ='maroon',\n",
    "        width = 0.4)\n",
    "plt.savefig('./fig1.jpg')"
   ]
  },
  {
   "cell_type": "code",
   "execution_count": null,
   "id": "a935ee3f-bd6a-473f-b662-252ed4ef7c46",
   "metadata": {},
   "outputs": [],
   "source": [
    "import rioxarray as rio\n",
    "x=df1.set_index(['lat', 'lon']).to_xarray()\n",
    "x.rio.write_crs(\"epsg:4326\", inplace=True)"
   ]
  },
  {
   "cell_type": "code",
   "execution_count": null,
   "id": "a3530a6c-f3ba-4570-8173-e2c3966e16d9",
   "metadata": {},
   "outputs": [],
   "source": [
    "\n",
    "fig, ((ax1, ax2,ax3),(ax4,ax5,ax6)) = plt.subplots(2, 3, figsize=(20, 12))\n",
    "\n",
    "x.aspect.plot(ax=ax1,cmap='winter')\n",
    "ax1.set_title(\"Aspect\")\n",
    "\n",
    "x.elev_merit.plot(ax=ax2,cmap='rainbow')\n",
    "ax2.set_title(\"Elevation\")\n",
    "\n",
    "x.precip.plot(ax=ax3)\n",
    "ax3.set_title(\"Precipitation\")\n",
    "\n",
    "x.sand.plot(ax=ax4)\n",
    "ax4.set_title(\"Sand\")\n",
    "\n",
    "x.silt.plot(ax=ax5)\n",
    "ax5.set_title(\"Silt\")\n",
    "\n",
    "x.clay.plot(ax=ax6)\n",
    "ax6.set_title(\"Clay\")\n",
    "plt.tight_layout()\n",
    "plt.savefig('./fig.jpg')"
   ]
  },
  {
   "cell_type": "code",
   "execution_count": null,
   "id": "9135947f-e4f3-45e8-ae26-ad54759152bc",
   "metadata": {},
   "outputs": [],
   "source": [
    "import pandas as pd\n",
    "df1=pd.read_csv('C:\\\\Users\\\\2020CEZ8302\\\\New Folder\\\\example.csv')\n",
    "import rioxarray as rio\n",
    "x=df1.set_index(['lat', 'lon']).to_xarray()\n",
    "x.rio.write_crs(\"epsg:4326\", inplace=True)"
   ]
  },
  {
   "cell_type": "code",
   "execution_count": null,
   "id": "1a99a969",
   "metadata": {},
   "outputs": [],
   "source": [
    "x.to_netcdf('./f.nc')"
   ]
  },
  {
   "cell_type": "code",
   "execution_count": null,
   "id": "77442894-b06f-4b5f-8356-031cff828699",
   "metadata": {},
   "outputs": [],
   "source": [
    "import matplotlib.pyplot as plt\n",
    "from matplotlib.colors import LinearSegmentedColormap\n",
    "l=['#f1eef6','#f1eef6','#a6d96a','#fcae91','#fdae61','#fb6a4a','#cb181d']\n",
    "mycolorbar1 = LinearSegmentedColormap.from_list('mycolorbar1',l)\n",
    "fig=plt.figure(figsize=(40,24)) \n",
    "ax = plt.axes()\n",
    "plt.title('landslide susceptibilty map',fontsize=60)\n",
    "cs=ax.contourf(x.lon, x.lat,x.pred,cmap=mycolorbar1)\n",
    "cbar = fig.colorbar(cs)\n",
    "cbar.ax.tick_params(labelsize=40) \n",
    "plt.savefig('./fig2.png')"
   ]
  },
  {
   "cell_type": "code",
   "execution_count": null,
   "id": "44b98a94",
   "metadata": {},
   "outputs": [],
   "source": [
    "import pandas as pd\n",
    "df2=pd.read_csv('../New Folder/final_map.csv')"
   ]
  },
  {
   "cell_type": "code",
   "execution_count": null,
   "id": "c0ba7713",
   "metadata": {},
   "outputs": [],
   "source": [
    "df2.rename(columns={'z':'value'},inplace=True)"
   ]
  },
  {
   "cell_type": "code",
   "execution_count": null,
   "id": "14a67d67",
   "metadata": {},
   "outputs": [],
   "source": [
    "df2.loc[((df2['value']<=0.20)),'class']=0\n",
    "df2.loc[((df2['value']>.20) & (df2['value']<=.3)),'class']=1\n",
    "df2.loc[((df2['value']>.3) & (df2['value']<=.49)),'class']=2\n",
    "df2.loc[((df2['value']>.49) & (df2['value']<=.85)),'class']=3\n",
    "df2.loc[((df2['value']>.85) & (df2['value']<=1)),'class']=4"
   ]
  },
  {
   "cell_type": "code",
   "execution_count": null,
   "id": "d96c0ada",
   "metadata": {},
   "outputs": [],
   "source": [
    "df2.rename(columns={'class':'cl'},inplace =True)\n",
    "df2.sort_values(by = [\"y\", \"x\"], ascending = [False, True],inplace=True)\n",
    "df2.to_csv('./class2.csv',index=False)"
   ]
  },
  {
   "cell_type": "code",
   "execution_count": null,
   "id": "d1a5cfb4",
   "metadata": {},
   "outputs": [],
   "source": [
    "\n",
    "dict={'lat':'y','lon':'x'}\n",
    "df2.rename(columns=dict,inplace=True)\n",
    "df2.sort_values(by = [\"y\", \"x\"], ascending = [False, True],inplace=True)\n",
    "df2.to_csv('./class2.csv',index=False)\n"
   ]
  },
  {
   "cell_type": "code",
   "execution_count": null,
   "id": "7315f9d2",
   "metadata": {},
   "outputs": [],
   "source": [
    "df2.to_csv('./class2.csv',index=False)"
   ]
  }
 ],
 "metadata": {
  "kernelspec": {
   "display_name": "Python 3.9.7 ('base')",
   "language": "python",
   "name": "python3"
  },
  "language_info": {
   "codemirror_mode": {
    "name": "ipython",
    "version": 3
   },
   "file_extension": ".py",
   "mimetype": "text/x-python",
   "name": "python",
   "nbconvert_exporter": "python",
   "pygments_lexer": "ipython3",
   "version": "3.9.7"
  },
  "vscode": {
   "interpreter": {
    "hash": "d3ce9e9ebceccd2e57ea645f5f243589e2fd0372d82e9ff7673353bc8e80d4e5"
   }
  }
 },
 "nbformat": 4,
 "nbformat_minor": 5
}
