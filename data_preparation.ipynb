{
 "cells": [
  {
   "cell_type": "code",
   "execution_count": null,
   "metadata": {},
   "outputs": [],
   "source": [
    "import rasterio\n",
    "import xarray as xr\n",
    "import pandas \n",
    "import geopandas as gpd\n",
    "import warnings\n",
    "from shapely.geometry import mapping\n",
    "import glob\n",
    "from joblib import Parallel, delayed\n",
    "import rioxarray as rxr\n",
    "from category_encoders.james_stein import JamesSteinEncoder\n",
    "import numpy as np\n",
    "import rasterio\n",
    "import os\n",
    "import ee\n",
    "import geemap\n",
    "import gdal\n",
    "from joblib import Parallel,delayed\n",
    "from osgeo import gdal\n",
    "from osgeo import ogr\n",
    "from functools import reduce\n",
    "from osgeo import gdalconst\n",
    "import pandas as pd\n",
    "import tqdm"
   ]
  },
  {
   "cell_type": "code",
   "execution_count": null,
   "metadata": {},
   "outputs": [],
   "source": [
    "lis=glob.glob(r'F:\\tif data\\dtm*.tif')\n",
    "\n",
    "def name(val):\n",
    "    return(val.split('_')[1]+val.split('_')[4])\n",
    "print(list(map(name,lis)))\n",
    "\n",
    "vector=gpd.read_file(r'F:\\Ind_boundary\\India_Boundary.shp')\n",
    "def func(i):\n",
    "    raster=rxr.open_rasterio(i, mode = 'r', masked=True).squeeze()\n",
    "    c=raster.rio.clip(vector.geometry.apply(mapping))\n",
    "    nam=name(i)\n",
    "    c.rio.to_raster(r'F:\\tif data/'+nam+'_ind.tif')"
   ]
  },
  {
   "cell_type": "code",
   "execution_count": null,
   "metadata": {},
   "outputs": [],
   "source": [
    "def clip(inp_loc,out_loc):\n",
    "    raster=rxr.open_rasterio(inp_loc, mode = 'r', masked=True).squeeze()\n",
    "    c=raster.rio.clip(vector.geometry.apply(mapping))\n",
    "    c.rio.to_raster(out_loc)"
   ]
  },
  {
   "cell_type": "code",
   "execution_count": null,
   "metadata": {},
   "outputs": [],
   "source": [
    "def reproject_raster(src_path, dst_path, dst_crs='EPSG:4326'):\n",
    "\n",
    "    with rasterio.open(src_path) as src:\n",
    "        transform, width, height = calculate_default_transform(\n",
    "            src.crs, dst_crs, src.width, src.height, *src.bounds)\n",
    "        kwargs = src.meta.copy()\n",
    "        kwargs.update({\n",
    "            'crs': dst_crs,\n",
    "            'transform': transform,\n",
    "            'width': width,\n",
    "            'height': height\n",
    "        })\n",
    "\n",
    "        with rasterio.open(dst_path, 'w', **kwargs) as dst:\n",
    "            for i in range(1, src.count + 1):\n",
    "                reproject(\n",
    "                    source=rasterio.band(src, i),\n",
    "                    destination=rasterio.band(dst, i),\n",
    "                    src_transform=src.transform,\n",
    "                    src_crs=src.crs,\n",
    "                    dst_transform=transform,\n",
    "                    dst_crs=dst_crs,\n",
    "                    resampling=Resampling.nearest)"
   ]
  },
  {
   "cell_type": "code",
   "execution_count": null,
   "metadata": {},
   "outputs": [],
   "source": [
    "def resample(referenceFile,inputFile):\n",
    "    reference = gdal.Open(referenceFile, 0)  # this opens the file in only reading mode\n",
    "    referenceTrans = reference.GetGeoTransform()\n",
    "    x_res = referenceTrans[1]\n",
    "    y_res = -referenceTrans[5]  # make sure this value is positive\n",
    "    outputFile=inputFile.split('.')[0]+inputFile.split('.')[1]+'_resample.tif'\n",
    "    kwargs = {\"format\": \"GTiff\", \"xRes\": x_res, \"yRes\": y_res} #\"resampleAlg\":'mode'\n",
    "    ds = gdal.Warp(outputFile, inputFile, **kwargs)"
   ]
  },
  {
   "cell_type": "code",
   "execution_count": null,
   "metadata": {},
   "outputs": [],
   "source": [
    "ndsm = r\"F:\\tif data\\paper1 tif\\elev_aspect_slope.tif\"\n",
    "shp = r'F:\\paper-1\\paper1_data\\India_COOLR.shp'\n",
    "data = gdal.Open(ndsm, gdalconst.GA_ReadOnly)\n",
    "geo_transform = data.GetGeoTransform()\n",
    "#source_layer = data.GetLayer()\n",
    "x_min = geo_transform[0]\n",
    "y_max = geo_transform[3]\n",
    "x_max = x_min + geo_transform[1] * data.RasterXSize\n",
    "y_min = y_max + geo_transform[5] * data.RasterYSize\n",
    "x_res = data.RasterXSize\n",
    "y_res = data.RasterYSize\n",
    "mb_v = ogr.Open(shp)\n",
    "mb_l = mb_v.GetLayer()\n",
    "pixel_width = geo_transform[1]\n",
    "output =r\"F:\\tif data\\paper1 tif\\my.tif\"\n",
    "target_ds = gdal.GetDriverByName('GTiff').Create(output, x_res, y_res, 1, gdal.GDT_Byte)\n",
    "target_ds.SetGeoTransform((x_min, pixel_width, 0, y_min, 0, pixel_width))\n",
    "band = target_ds.GetRasterBand(1)\n",
    "NoData_value = -999999\n",
    "band.SetNoDataValue(NoData_value)\n",
    "band.FlushCache()\n",
    "gdal.RasterizeLayer(target_ds, [1], mb_l,burn_values=[1])\n",
    "target_ds = None"
   ]
  },
  {
   "cell_type": "code",
   "execution_count": null,
   "metadata": {},
   "outputs": [],
   "source": [
    "ndsm=r\"F:\\tif data\\paper1 tif\\elev_aspect_slope.tif\"\n",
    "shp=r\"F:\\shapefiles\\LANDSLIDE POLYGON\\result_polygon.shp\"\n",
    "data = gdal.Open(ndsm, gdalconst.GA_ReadOnly)\n",
    "geo_transform = data.GetGeoTransform()\n",
    "source_layer = data.GetLayer()\n",
    "x_min = geo_transform[0]\n",
    "y_max = geo_transform[3]\n",
    "x_max = x_min + geo_transform[1] * data.RasterXSize\n",
    "y_min = y_max + geo_transform[5] * data.RasterYSize\n",
    "x_res = data.RasterXSize\n",
    "y_res = data.RasterYSize\n",
    "mb_v = ogr.Open(shp)\n",
    "mb_l = mb_v.GetLayer()\n",
    "pixel_width = geo_transform[1]\n",
    "output =r\"F:\\tif data\\paper1 tif\\polygon_raster.tif\"\n",
    "target_ds = gdal.GetDriverByName('GTiff').Create(output, x_res, y_res, 1, gdal.GDT_Byte)\n",
    "target_ds.SetGeoTransform((x_min, pixel_width, 0, y_min, 0, pixel_width))\n",
    "band = target_ds.GetRasterBand(1)\n",
    "NoData_value = -999999\n",
    "band.SetNoDataValue(NoData_value)\n",
    "band.FlushCache()\n",
    "gdal.RasterizeLayer(target_ds, [1], mb_l,burn_values=[1],options =[\"ALL_TOUCHED=TRUE\"])\n",
    "target_ds = None"
   ]
  },
  {
   "cell_type": "code",
   "execution_count": null,
   "metadata": {},
   "outputs": [],
   "source": [
    "#  burn=1\n",
    "ndsm=r\"F:\\tif data\\paper1 tif\\elev_aspect_slope.tif\"\n",
    "data = gdal.Open(ndsm, gdalconst.GA_ReadOnly)\n",
    "geo_transform = data.GetGeoTransform()\n",
    "source_layer = data.GetLayer()\n",
    "x_min = geo_transform[0]\n",
    "y_max = geo_transform[3]\n",
    "x_max = x_min + geo_transform[1] * data.RasterXSize\n",
    "y_min = y_max + geo_transform[5] * data.RasterYSize\n",
    "x_res = data.RasterXSize\n",
    "y_res = data.RasterYSize\n",
    "mb_v = ogr.Open(shp)\n",
    "mb_l = mb_v.GetLayer()\n",
    "pixel_width = geo_transform[1]\n",
    "target_ds = gdal.GetDriverByName('GTiff').Create(output, x_res, y_res, 1, gdal.GDT_Byte)\n",
    "target_ds.SetGeoTransform((x_min, pixel_width, 0, y_min, 0, pixel_width))\n",
    "band = target_ds.GetRasterBand(1)\n",
    "NoData_value = -999999\n",
    "band.SetNoDataValue(NoData_value)\n",
    "band.FlushCache()\n",
    "gdal.RasterizeLayer(target_ds, [1], mb_l,burn_values=[1])\n",
    "target_ds = None"
   ]
  },
  {
   "cell_type": "code",
   "execution_count": null,
   "metadata": {},
   "outputs": [],
   "source": [
    "file=xr.open_rasterio(r'F:\\tif data\\paper1 tif\\elev_aspect_slope.tif')\n",
    "band=file.descriptions\n",
    "\n",
    "lis=[file[i].to_dataframe(name='{}'.format(band[i])).drop(['band'],axis=1) for i in range(len(file['band']))]\n",
    "df=pd.concat(lis,axis=1,join='inner')\n"
   ]
  },
  {
   "cell_type": "code",
   "execution_count": null,
   "metadata": {},
   "outputs": [],
   "source": [
    "## This is to check where the slope is null and the elevation is not null. The points lie on the edge and we can assume and drop them.\n",
    "\n",
    "ddf=df[df['slope'].isna()]\n",
    "gdf = geopandas.GeoDataFrame(ddf)\n",
    "gdf.set_geometry(\n",
    "    geopandas.points_from_xy(ddf['x'], ddf['y']),\n",
    "    inplace=True, crs='EPSG:4326')\n",
    "gdf.drop(['x', 'y'], axis=1, inplace=True)  # optional\n",
    "gdf.to_file('r.shp')"
   ]
  },
  {
   "cell_type": "code",
   "execution_count": null,
   "metadata": {},
   "outputs": [],
   "source": [
    "file['inv_point']=file['inv_point'].astype(int)\n",
    "file['label']=(file['coolr landslide']) |(file['inventory_poly']) | (file['inv_point']) \n",
    "file.drop(['coolr landslide','inventory_poly','inv_point'],axis=1,inplace=True)\n",
    "file.to_csv(r'F:\\tif data\\final_with_label.csv',index=False)"
   ]
  },
  {
   "cell_type": "code",
   "execution_count": null,
   "metadata": {},
   "outputs": [],
   "source": [
    "file=pd.read_csv(r'F:\\tif data\\final_with_label.csv')\n",
    "file.sort_values(by = [\"y\", \"x\"], ascending = [False, True],inplace=True)\n",
    "file.loc[(file['sand_indtif_resample']==0),'sand_indtif_resample']=np.nan\n",
    "file.loc[(file['silt_indtif_resample']==0),'silt_indtif_resample']=np.nan\n",
    "file.loc[(file['clay_indtif_resample']==0),'clay_indtif_resample']=np.nan\n",
    "file.interpolate(method='linear',limit_direction='both',inplace=True)"
   ]
  },
  {
   "cell_type": "code",
   "execution_count": null,
   "metadata": {},
   "outputs": [],
   "source": [
    "file.loc[((file['aspect']<=22.5) | (file['aspect']>=337.5)),'Aspect']='n'\n",
    "file.loc[((file['aspect']>22.5) & (file['aspect']<=67.5)),'Aspect']='ne'\n",
    "file.loc[((file['aspect']>67.5) & (file['aspect']<=112.5)),'Aspect']='e'\n",
    "file.loc[((file['aspect']>112.5) & (file['aspect']<=157.5)),'Aspect']='se'\n",
    "file.loc[((file['aspect']>157.5) & (file['aspect']<=202.5)),'Aspect']='s'\n",
    "file.loc[((file['aspect']>247.5) & (file['aspect']<=292.5)),'Aspect']='w'\n",
    "file.loc[((file['aspect']>292.5) & (file['aspect']<=337.5)),'Aspect']='nw'\n",
    "file.loc[((file['aspect']>202.5) & (file['aspect']<=247.5)),'Aspect']='sw'\n",
    "JSE_encoder = JamesSteinEncoder()\n",
    "train_jse=pd.DataFrame()\n",
    "train_jse['as']= JSE_encoder.fit_transform(file.Aspect, file.label)\n",
    "file1=pd.concat([file,train_jse], axis=1)\n",
    "file1.drop(['Aspect','aspect'],inplace=True,axis=1)"
   ]
  }
 ],
 "metadata": {
  "language_info": {
   "name": "python"
  },
  "orig_nbformat": 4
 },
 "nbformat": 4,
 "nbformat_minor": 2
}
