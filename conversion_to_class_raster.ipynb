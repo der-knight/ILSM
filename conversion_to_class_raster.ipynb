{
 "cells": [
  {
   "cell_type": "code",
   "execution_count": null,
   "metadata": {},
   "outputs": [],
   "source": [
    "import pandas as pd\n",
    "import numpy as np\n",
    "from osgeo import gdal\n",
    "\n",
    "df2=pd.read_csv('../New Folder/final_map.csv')\n",
    "df2.rename(columns={'z':'value'},inplace=True)\n",
    "df2.loc[((df2['value']<=0.2034)),'class']=0\n",
    "df2.loc[((df2['value']>.2034) & (df2['value']<=.2570)),'class']=1\n",
    "df2.loc[((df2['value']>.2570) & (df2['value']<=.49980)),'class']=2\n",
    "df2.loc[((df2['value']>.4998) & (df2['value']<=.7991)),'class']=3\n",
    "df2.loc[((df2['value']>.799) & (df2['value']<=1)),'class']=4\n",
    "df2.rename(columns={'class':'cl'},inplace =True)\n",
    "df2.sort_values(by = [\"y\", \"x\"], ascending = [False, True],inplace=True)\n",
    "df2.to_csv('./class2.csv',index=False)"
   ]
  },
  {
   "cell_type": "code",
   "execution_count": null,
   "metadata": {},
   "outputs": [],
   "source": [
    "dict={'lat':'y','lon':'x'}\n",
    "df2.rename(columns=dict,inplace=True)\n",
    "df2.sort_values(by = [\"y\", \"x\"], ascending = [False, True],inplace=True)\n",
    "df2.to_csv('./class_finalz.csv',index=False)\n"
   ]
  },
  {
   "cell_type": "code",
   "execution_count": null,
   "metadata": {},
   "outputs": [],
   "source": [
    "\n",
    "r = gdal.Rasterize(\"class_final.tif\", \"f.vrt\", outputSRS = \"EPSG:4326\", \n",
    "                           xRes = 0.01, yRes = -.01,attribute = \"clas\", noData = np.nan)\n",
    "r = None"
   ]
  }
 ],
 "metadata": {
  "kernelspec": {
   "display_name": "Python 3.9.7 ('base')",
   "language": "python",
   "name": "python3"
  },
  "language_info": {
   "name": "python",
   "version": "3.9.7"
  },
  "orig_nbformat": 4,
  "vscode": {
   "interpreter": {
    "hash": "d3ce9e9ebceccd2e57ea645f5f243589e2fd0372d82e9ff7673353bc8e80d4e5"
   }
  }
 },
 "nbformat": 4,
 "nbformat_minor": 2
}
